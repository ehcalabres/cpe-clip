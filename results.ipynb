{
 "cells": [
  {
   "cell_type": "code",
   "execution_count": 29,
   "metadata": {},
   "outputs": [],
   "source": [
    "import json"
   ]
  },
  {
   "cell_type": "code",
   "execution_count": 28,
   "metadata": {},
   "outputs": [],
   "source": [
    "def get_results(file):\n",
    "    with open(file) as f:\n",
    "        data = json.load(f)\n",
    "    d = {}\n",
    "    for k, v in data['Acc'].items():\n",
    "        if len(k.split('/'))==3:\n",
    "            d[k] = v\n",
    "    return {k:v*100 for k,v in zip(range(len(d)), d.values())}"
   ]
  },
  {
   "cell_type": "code",
   "execution_count": 35,
   "metadata": {},
   "outputs": [],
   "source": [
    "filename = \"results.json\""
   ]
  },
  {
   "cell_type": "code",
   "execution_count": 36,
   "metadata": {},
   "outputs": [
    {
     "data": {
      "text/plain": [
       "{0: 90.31666666666666,\n",
       " 1: 89.06153846153846,\n",
       " 2: 87.12857142857143,\n",
       " 3: 86.69333333333333,\n",
       " 4: 86.275,\n",
       " 5: 84.90588235294118,\n",
       " 6: 83.38888888888889,\n",
       " 7: 82.35789473684211,\n",
       " 8: 81.67}"
      ]
     },
     "execution_count": 36,
     "metadata": {},
     "output_type": "execute_result"
    }
   ],
   "source": [
    "get_results(filename)"
   ]
  }
 ],
 "metadata": {
  "kernelspec": {
   "display_name": "Continual Learning Kernel",
   "language": "python",
   "name": "continual-learning"
  },
  "language_info": {
   "codemirror_mode": {
    "name": "ipython",
    "version": 3
   },
   "file_extension": ".py",
   "mimetype": "text/x-python",
   "name": "python",
   "nbconvert_exporter": "python",
   "pygments_lexer": "ipython3",
   "version": "3.10.6"
  }
 },
 "nbformat": 4,
 "nbformat_minor": 2
}
